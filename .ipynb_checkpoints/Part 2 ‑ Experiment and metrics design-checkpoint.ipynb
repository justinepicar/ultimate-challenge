{
 "cells": [
  {
   "cell_type": "markdown",
   "metadata": {},
   "source": [
    "### Part 2 ‑ Experiment and metrics design\n",
    "The neighboring cities of Gotham and Metropolis have complementary circadian rhythms: on\n",
    "weekdays, Ultimate Gotham is most active at night, and Ultimate Metropolis is most active\n",
    "during the day. On weekends, there is reasonable activity in both cities.\n",
    "However, a toll bridge, with a two­way toll, between the two cities causes driver partners to tend\n",
    "to be exclusive to each city. The Ultimate managers of city operations for the two cities have\n",
    "proposed an experiment to encourage driver partners to be available in both cities, by\n",
    "reimbursing all toll costs."
   ]
  },
  {
   "cell_type": "markdown",
   "metadata": {},
   "source": [
    "1. What would you choose as the key measure of success of this experiment in\n",
    "encouraging driver partners to serve both cities, and why would you choose this metric?"
   ]
  },
  {
   "cell_type": "markdown",
   "metadata": {},
   "source": [
    "A key measure of success for this experiment would be measuring if there is a significant change to the revenue per mile that is made by each driver partner and significant increase in frequency of crossing from Ultimate Gotham to Metropolis or from Ultimate Metropolis to Gotham based on whether or not toll costs are reimbursed. If there is an incentive not to pay additional toll costs for the drivers to get across the city, they may be more encouraged to serve both cities. "
   ]
  },
  {
   "cell_type": "markdown",
   "metadata": {},
   "source": [
    "2. Describe a practical experiment you would design to compare the effectiveness of the\n",
    "proposed change in relation to the key measure of success. Please provide details on:\n",
    "a. how you will implement the experiment\n",
    "b. what statistical test(s) you will conduct to verify the significance of the\n",
    "observation\n",
    "c. how you would interpret the results and provide recommendations to the city\n",
    "operations team along with any caveats."
   ]
  },
  {
   "cell_type": "markdown",
   "metadata": {},
   "source": [
    "a. We would need the data for total or average distance, profit, operational and toll costs in addition to any other features (such as average driver rating, weekday/weekend rates, carpool options, etc.) for each driver partner that crosses the toll bridge and does not cross the toll bridge."
   ]
  },
  {
   "cell_type": "markdown",
   "metadata": {},
   "source": [
    "b. We can gather this data by performing A/B testing and giving the option to reimburse some drivers while not reimbursing others. Once the data is gathered, we need to perform exploratory data analysis and pre-process the data (ie. scaling, transforming, imputing if necessary).\n",
    "\n",
    "We can determing what the distribution and correlation of each feature is by looking at a histogram/violin plot and a heatmap, respectively. We could also create a label 0 for drivers who did not cross the bridge and 1 for drivers who crossed the bridge.\n",
    "\n",
    "We can create a regression model that would determine the probability or likelihood that a driver is more likely to cross a bridge to a neighboring city. We can use regularization to offset overfitting and compare whether L1 or L2 regularization works better.\n",
    "\n",
    "We can also use ensemble techniques to create a more robust model such as CatBoost or ADABoost."
   ]
  },
  {
   "cell_type": "markdown",
   "metadata": {},
   "source": [
    "c. From there we need to perform hypothesis testing, and examine the p-values to determine any significant changes as well as residuals, and the ROC curve for overfitting, bias, and variance to the data to help us determine which model performs the best."
   ]
  }
 ],
 "metadata": {
  "kernelspec": {
   "display_name": "Python 3",
   "language": "python",
   "name": "python3"
  },
  "language_info": {
   "codemirror_mode": {
    "name": "ipython",
    "version": 3
   },
   "file_extension": ".py",
   "mimetype": "text/x-python",
   "name": "python",
   "nbconvert_exporter": "python",
   "pygments_lexer": "ipython3",
   "version": "3.8.5"
  }
 },
 "nbformat": 4,
 "nbformat_minor": 4
}
